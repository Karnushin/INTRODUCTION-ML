{
 "cells": [
  {
   "cell_type": "code",
   "execution_count": 1,
   "metadata": {},
   "outputs": [],
   "source": [
    "from sklearn.cluster import KMeans\n",
    "from skimage.io import imread\n",
    "import pylab\n",
    "import skimage\n",
    "import numpy as np\n",
    "import pandas as pd\n",
    "%matplotlib inline"
   ]
  },
  {
   "cell_type": "code",
   "execution_count": 2,
   "metadata": {},
   "outputs": [],
   "source": [
    "#приведение всех значений в интервал от 0 до 1\n",
    "image = skimage.img_as_float(imread('parrots.jpg'))\n",
    "x,y,d = image.shape\n",
    "#приведение к матрицы объекты-признаки\n",
    "img_array = pd.DataFrame(np.reshape(image, (x*y, d)), columns=['R', 'G', 'B'])"
   ]
  },
  {
   "cell_type": "code",
   "execution_count": 3,
   "metadata": {},
   "outputs": [],
   "source": [
    "#кластеризация по n_clusters кластерам\n",
    "#и вовзращение двух измененных картинок по указанным параметрам\n",
    "def Clustering(image_array, n_clusters=8):\n",
    "    #копия обязательно иначе накапливается ошибка и результат получается неверный\n",
    "    #ввиду того, что Python работает с объектами, как с ссылками\n",
    "    img_array = image_array.copy()\n",
    "    print ('Count of clusters: ' + str(n_clusters))\n",
    "    kmeans = KMeans(n_clusters=n_clusters,init='k-means++', random_state=241).fit(img_array)\n",
    "    img_array['cluster'] = kmeans.labels_\n",
    "    #в инете почему-то пишут как ниже, резульат идентичный плучается в итоге все равно\n",
    "    #img_array['cluster'] = kmeans.predict(img_array)\n",
    "    \n",
    "    #получаем картинку со средними значениями RGB по кластерам\n",
    "    means = img_array.groupby('cluster').mean().values\n",
    "    X_mean = [means[c] for c in img_array['cluster'].values]\n",
    "    mean_image = np.reshape(X_mean, (x, y, d))\n",
    "    \n",
    "    #получаем картинку со медианными значениями RGB по кластерам\n",
    "    medians = img_array.groupby('cluster').median().values\n",
    "    X_median = [medians[c] for c in img_array['cluster'].values]\n",
    "    median_image = np.reshape(X_median, (x, y, d))\n",
    "    return mean_image, median_image\n",
    "\n",
    "#подсчет метрики Peak signal-to-noise ratio\n",
    "def PSNR(img, img_pred):\n",
    "    MSE = np.mean((image - img_pred) ** 2)\n",
    "    return 20*np.log10(1.0)-10*np.log10(MSE)"
   ]
  },
  {
   "cell_type": "code",
   "execution_count": 4,
   "metadata": {},
   "outputs": [
    {
     "name": "stdout",
     "output_type": "stream",
     "text": [
      "Count of clusters: 1\n",
      "9.818835544771293 9.427840460507396\n",
      "Count of clusters: 2\n",
      "12.080177084931087 11.655077266907849\n",
      "Count of clusters: 3\n",
      "13.153487044607246 12.774948175099809\n",
      "Count of clusters: 4\n",
      "14.3678179408688 14.005928721924676\n",
      "Count of clusters: 5\n",
      "15.527146197305989 15.17790907734613\n",
      "Count of clusters: 6\n",
      "16.543994096630186 16.051176778469276\n",
      "Count of clusters: 7\n",
      "17.64099250863652 17.339368491425024\n",
      "Count of clusters: 8\n",
      "18.436829014063576 18.1379714433961\n",
      "Count of clusters: 9\n",
      "19.112672735788138 18.81388735617062\n",
      "Count of clusters: 10\n",
      "19.64075663591531 19.417472515521055\n",
      "Count of clusters: 11\n",
      "20.127588746514583 19.84128407389954\n"
     ]
    }
   ],
   "source": [
    "for i in range(1, 21):\n",
    "    mean_img, median_img = Clustering(img_array, i)\n",
    "    psnr_mean, psnr_median = PSNR(image, mean_img), PSNR(image, median_img)\n",
    "    print(psnr_mean, psnr_median)\n",
    "    #skimage.io.imshow(mean_image) #для показа получившегося изображения\n",
    "    #доведение до указанной точности в условии задачи\n",
    "    if (psnr_mean > 20 or psnr_median > 20):\n",
    "        break"
   ]
  },
  {
   "cell_type": "code",
   "execution_count": null,
   "metadata": {},
   "outputs": [],
   "source": []
  }
 ],
 "metadata": {
  "kernelspec": {
   "display_name": "Python 3",
   "language": "python",
   "name": "python3"
  },
  "language_info": {
   "codemirror_mode": {
    "name": "ipython",
    "version": 3
   },
   "file_extension": ".py",
   "mimetype": "text/x-python",
   "name": "python",
   "nbconvert_exporter": "python",
   "pygments_lexer": "ipython3",
   "version": "3.6.8"
  }
 },
 "nbformat": 4,
 "nbformat_minor": 2
}
