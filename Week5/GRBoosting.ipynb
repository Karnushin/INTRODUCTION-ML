{
 "cells": [
  {
   "cell_type": "code",
   "execution_count": 1,
   "metadata": {},
   "outputs": [],
   "source": [
    "import pandas as pd\n",
    "import numpy as np\n",
    "from sklearn.model_selection import train_test_split, KFold, GridSearchCV\n",
    "from sklearn.ensemble import GradientBoostingClassifier\n",
    "from sklearn.metrics import log_loss\n",
    "import matplotlib.pyplot as plt\n",
    "%matplotlib inline"
   ]
  },
  {
   "cell_type": "code",
   "execution_count": 2,
   "metadata": {},
   "outputs": [],
   "source": [
    "data = pd.read_csv('gbm-data.csv')\n",
    "#data = data.values\n",
    "y = data.loc[:, 'Activity']\n",
    "X = data.loc[:, 'D1':'D1776']\n",
    "X_train, X_test, y_train, y_test = train_test_split(X, y, test_size=0.8, random_state=241)"
   ]
  },
  {
   "cell_type": "code",
   "execution_count": 3,
   "metadata": {},
   "outputs": [
    {
     "name": "stdout",
     "output_type": "stream",
     "text": [
      "{'learning_rate': 0.2, 'n_estimators': 22} -0.5401372108049839\n"
     ]
    }
   ],
   "source": [
    "clf = GradientBoostingClassifier(random_state=241)\n",
    "kf = KFold(n_splits = 5, shuffle = True, random_state=241)\n",
    "learning_rate = [0.2]\n",
    "n_estimators = [x for x in range(20,50)]\n",
    "params_grid = dict(learning_rate=learning_rate, n_estimators=n_estimators)\n",
    "gs = GridSearchCV(clf, params_grid, scoring='neg_log_loss', cv=kf, n_jobs=-1)\n",
    "grid_res = gs.fit(X_train, y_train)\n",
    "print(grid_res.best_params_,grid_res.best_score_)\n",
    "\n",
    "\n",
    "\n"
   ]
  },
  {
   "cell_type": "code",
   "execution_count": 4,
   "metadata": {},
   "outputs": [
    {
     "name": "stdout",
     "output_type": "stream",
     "text": [
      "0.5359882034991086\n"
     ]
    }
   ],
   "source": [
    "clf = GradientBoostingClassifier(n_estimators=22, random_state=241)\n",
    "clf.fit(X_train, y_train)\n",
    "y_pred = clf.predict_proba(X_test)\n",
    "print(log_loss(y_test, y_pred))"
   ]
  },
  {
   "cell_type": "code",
   "execution_count": null,
   "metadata": {},
   "outputs": [],
   "source": []
  }
 ],
 "metadata": {
  "kernelspec": {
   "display_name": "Python 3",
   "language": "python",
   "name": "python3"
  },
  "language_info": {
   "codemirror_mode": {
    "name": "ipython",
    "version": 3
   },
   "file_extension": ".py",
   "mimetype": "text/x-python",
   "name": "python",
   "nbconvert_exporter": "python",
   "pygments_lexer": "ipython3",
   "version": "3.6.8"
  }
 },
 "nbformat": 4,
 "nbformat_minor": 2
}
