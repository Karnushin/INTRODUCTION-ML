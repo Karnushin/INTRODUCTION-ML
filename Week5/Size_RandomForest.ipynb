{
 "cells": [
  {
   "cell_type": "code",
   "execution_count": 1,
   "metadata": {},
   "outputs": [],
   "source": [
    "from sklearn.ensemble import RandomForestRegressor\n",
    "#from sklearn.metrics import r2_score\n",
    "from sklearn.model_selection import KFold, cross_val_score\n",
    "import pandas as pd\n",
    "import numpy as np\n",
    "import matplotlib.pyplot as plt\n",
    "\n",
    "import warnings\n",
    "warnings.filterwarnings('ignore')"
   ]
  },
  {
   "cell_type": "code",
   "execution_count": 2,
   "metadata": {},
   "outputs": [],
   "source": [
    "data = pd.read_csv('abalone.csv')\n",
    "#data.Sex = pd.factorize(data.Sex)[0] #можно так, тогда ответ на задачу: 24\n",
    "#так рекомендуется в задании\n",
    "data['Sex'] = data['Sex'].map(lambda x: 1 if x == 'M' else (-1 if x == 'F' else 0))\n",
    "#data['Sex'] = data['Sex'].apply({'F':-1, 'I':0, 'M':1}.get) #а можно так\n",
    "X = data.loc[:, 'Sex':'ShellWeight']\n",
    "Y = data.loc[:,'Rings']"
   ]
  },
  {
   "cell_type": "code",
   "execution_count": 3,
   "metadata": {},
   "outputs": [],
   "source": [
    "#оценивание качества на кросс-валидации с заданным числом деревьем от и до, используя метрику R2\n",
    "kf = KFold(n_splits=5, shuffle=True,random_state=1)\n",
    "quality = {}\n",
    "for i in range(1, 51):\n",
    "    reg = RandomForestRegressor(n_estimators=i, random_state=1, n_jobs=-1)\n",
    "    quality[i] = (cross_val_score(estimator=reg, X = X, y = Y, cv=kf, scoring='r2')).mean()"
   ]
  },
  {
   "cell_type": "code",
   "execution_count": 4,
   "metadata": {},
   "outputs": [
    {
     "data": {
      "text/plain": [
       "(21, 0.520529096463528)"
      ]
     },
     "execution_count": 4,
     "metadata": {},
     "output_type": "execute_result"
    }
   ],
   "source": [
    "#нахождение минимиального числа деревьев такого, что качество больше 52%\n",
    "min([(k, v) for k, v in quality.items() if v > 0.52], key=lambda x: x[1])"
   ]
  },
  {
   "cell_type": "code",
   "execution_count": 5,
   "metadata": {},
   "outputs": [
    {
     "data": {
      "image/png": "[encoded data removed]",
      "text/plain": [
       "<Figure size 504x504 with 1 Axes>"
      ]
     },
     "metadata": {
      "needs_background": "light"
     },
     "output_type": "display_data"
    },
    {
     "name": "stdout",
     "output_type": "stream",
     "text": [
      "In R^2 bigger is better!!\n"
     ]
    }
   ],
   "source": [
    "plt.figure(figsize=(7,7))\n",
    "plt.plot(quality.keys(), quality.values(), c='b')\n",
    "plt.xlabel('Count of trees', fontsize=11)\n",
    "plt.ylabel('$R^2$ metric', fontsize=11)\n",
    "plt.grid()\n",
    "plt.show()\n",
    "print('In R^2 bigger is better!!')"
   ]
  },
  {
   "cell_type": "code",
   "execution_count": 104,
   "metadata": {},
   "outputs": [
    {
     "data": {
      "text/plain": [
       "\"\\nfrom sklearn.model_selection import KFold, GridSearchCV\\nparam_grid = {\\n    'random_state': [1],\\n    'n_estimators': np.arange(1,51)\\n}\\nrf = RandomForestRegressor()\\nkf = KFold(n_splits=5, random_state=1, shuffle=True)\\ngs = GridSearchCV(estimator = rf, param_grid = param_grid, scoring='r2', cv=kf)\\ngs.fit(X,y)\\ncv_results = pd.DataFrame(gs.cv_results_)\\nprint(np.min(np.where(cv_results.mean_test_score > 0.52))+1)\\n#22\\n\""
      ]
     },
     "execution_count": 104,
     "metadata": {},
     "output_type": "execute_result"
    }
   ],
   "source": [
    "'''\n",
    "from sklearn.model_selection import KFold, GridSearchCV\n",
    "param_grid = {\n",
    "    'random_state': [1],\n",
    "    'n_estimators': np.arange(1,51)\n",
    "}\n",
    "rf = RandomForestRegressor()\n",
    "kf = KFold(n_splits=5, random_state=1, shuffle=True)\n",
    "gs = GridSearchCV(estimator = rf, param_grid = param_grid, scoring='r2', cv=kf)\n",
    "gs.fit(X,y)\n",
    "cv_results = pd.DataFrame(gs.cv_results_)\n",
    "print(np.min(np.where(cv_results.mean_test_score > 0.52))+1)\n",
    "#22\n",
    "'''"
   ]
  },
  {
   "cell_type": "code",
   "execution_count": null,
   "metadata": {},
   "outputs": [],
   "source": []
  }
 ],
 "metadata": {
  "kernelspec": {
   "display_name": "Python 3",
   "language": "python",
   "name": "python3"
  },
  "language_info": {
   "codemirror_mode": {
    "name": "ipython",
    "version": 3
   },
   "file_extension": ".py",
   "mimetype": "text/x-python",
   "name": "python",
   "nbconvert_exporter": "python",
   "pygments_lexer": "ipython3",
   "version": "3.6.8"
  }
 },
 "nbformat": 4,
 "nbformat_minor": 2
}
