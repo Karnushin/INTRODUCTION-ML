{
 "cells": [
  {
   "cell_type": "markdown",
   "metadata": {},
   "source": [
    "# Dota 2: Win Probability Prediction\n",
    "https://www.kaggle.com/c/dota-2-win-probability-prediction/discussion\n",
    "<br>\n",
    "https://www.coursera.org/learn/vvedenie-mashinnoe-obuchenie/peer/J1SH8/proiekt-priedskazaniia-pobieditielia-v-onlain-ighrie"
   ]
  },
  {
   "cell_type": "code",
   "execution_count": 71,
   "metadata": {},
   "outputs": [],
   "source": [
    "import pandas as pd\n",
    "import numpy as np\n",
    "import datetime\n",
    "import matplotlib.pyplot as plt"
   ]
  },
  {
   "cell_type": "markdown",
   "metadata": {},
   "source": [
    "Dowlnoading data for train and data for test and selecting a target variable"
   ]
  },
  {
   "cell_type": "code",
   "execution_count": 72,
   "metadata": {},
   "outputs": [],
   "source": [
    "X_train = pd.read_csv('features.csv', index_col='match_id')\n",
    "y_train = X_train.radiant_win\n",
    "X_test = pd.read_csv('features_test.csv', index_col='match_id')"
   ]
  },
  {
   "cell_type": "markdown",
   "metadata": {},
   "source": [
    "Function MissingValuesTable showed how many values are missed in data (that is an object of DataFrame)"
   ]
  },
  {
   "cell_type": "code",
   "execution_count": 73,
   "metadata": {},
   "outputs": [],
   "source": [
    "def MissingValuesTable(df):\n",
    "        mis_val = df.isnull().sum()\n",
    "        mis_val_percent = 100 * df.isnull().sum() / len(df)\n",
    "        mis_val_table = pd.concat([mis_val, mis_val_percent], axis=1)\n",
    "        mis_val_table_ren_columns = mis_val_table.rename(\n",
    "        columns = {0 : 'Missing Values', 1 : '% of Total Values'})\n",
    "        mis_val_table_ren_columns = mis_val_table_ren_columns[\n",
    "            mis_val_table_ren_columns.iloc[:,1] != 0].sort_values(\n",
    "        by='% of Total Values', ascending=False).round(1)\n",
    "        print (\"Selected dataframe has \" + str(df.shape[1]) + \" columns.\\n\"      \n",
    "            \"There're \" + str(mis_val_table_ren_columns.shape[0]) +\n",
    "              \" columns that have missing values.\")\n",
    "        return mis_val_table_ren_columns"
   ]
  },
  {
   "cell_type": "code",
   "execution_count": 74,
   "metadata": {},
   "outputs": [
    {
     "name": "stdout",
     "output_type": "stream",
     "text": [
      "Selected dataframe has 108 columns.\n",
      "There're 12 columns that have missing values.\n"
     ]
    },
    {
     "data": {
      "text/html": [
       "<div>\n",
       "<style scoped>\n",
       "    .dataframe tbody tr th:only-of-type {\n",
       "        vertical-align: middle;\n",
       "    }\n",
       "\n",
       "    .dataframe tbody tr th {\n",
       "        vertical-align: top;\n",
       "    }\n",
       "\n",
       "    .dataframe thead th {\n",
       "        text-align: right;\n",
       "    }\n",
       "</style>\n",
       "<table border=\"1\" class=\"dataframe\">\n",
       "  <thead>\n",
       "    <tr style=\"text-align: right;\">\n",
       "      <th></th>\n",
       "      <th>Missing Values</th>\n",
       "      <th>% of Total Values</th>\n",
       "    </tr>\n",
       "  </thead>\n",
       "  <tbody>\n",
       "    <tr>\n",
       "      <th>first_blood_player2</th>\n",
       "      <td>43987</td>\n",
       "      <td>45.2</td>\n",
       "    </tr>\n",
       "    <tr>\n",
       "      <th>radiant_flying_courier_time</th>\n",
       "      <td>27479</td>\n",
       "      <td>28.3</td>\n",
       "    </tr>\n",
       "    <tr>\n",
       "      <th>dire_flying_courier_time</th>\n",
       "      <td>26098</td>\n",
       "      <td>26.8</td>\n",
       "    </tr>\n",
       "    <tr>\n",
       "      <th>first_blood_time</th>\n",
       "      <td>19553</td>\n",
       "      <td>20.1</td>\n",
       "    </tr>\n",
       "    <tr>\n",
       "      <th>first_blood_team</th>\n",
       "      <td>19553</td>\n",
       "      <td>20.1</td>\n",
       "    </tr>\n",
       "    <tr>\n",
       "      <th>first_blood_player1</th>\n",
       "      <td>19553</td>\n",
       "      <td>20.1</td>\n",
       "    </tr>\n",
       "    <tr>\n",
       "      <th>dire_bottle_time</th>\n",
       "      <td>16143</td>\n",
       "      <td>16.6</td>\n",
       "    </tr>\n",
       "    <tr>\n",
       "      <th>radiant_bottle_time</th>\n",
       "      <td>15691</td>\n",
       "      <td>16.1</td>\n",
       "    </tr>\n",
       "    <tr>\n",
       "      <th>radiant_first_ward_time</th>\n",
       "      <td>1836</td>\n",
       "      <td>1.9</td>\n",
       "    </tr>\n",
       "    <tr>\n",
       "      <th>dire_first_ward_time</th>\n",
       "      <td>1826</td>\n",
       "      <td>1.9</td>\n",
       "    </tr>\n",
       "    <tr>\n",
       "      <th>radiant_courier_time</th>\n",
       "      <td>692</td>\n",
       "      <td>0.7</td>\n",
       "    </tr>\n",
       "    <tr>\n",
       "      <th>dire_courier_time</th>\n",
       "      <td>676</td>\n",
       "      <td>0.7</td>\n",
       "    </tr>\n",
       "  </tbody>\n",
       "</table>\n",
       "</div>"
      ],
      "text/plain": [
       "                             Missing Values  % of Total Values\n",
       "first_blood_player2                   43987               45.2\n",
       "radiant_flying_courier_time           27479               28.3\n",
       "dire_flying_courier_time              26098               26.8\n",
       "first_blood_time                      19553               20.1\n",
       "first_blood_team                      19553               20.1\n",
       "first_blood_player1                   19553               20.1\n",
       "dire_bottle_time                      16143               16.6\n",
       "radiant_bottle_time                   15691               16.1\n",
       "radiant_first_ward_time                1836                1.9\n",
       "dire_first_ward_time                   1826                1.9\n",
       "radiant_courier_time                    692                0.7\n",
       "dire_courier_time                       676                0.7"
      ]
     },
     "execution_count": 74,
     "metadata": {},
     "output_type": "execute_result"
    }
   ],
   "source": [
    "MissingValuesTable(X_train)"
   ]
  },
  {
   "cell_type": "markdown",
   "metadata": {},
   "source": [
    "Deleting of features that are not about the first 5 mins so they can impact on the result since they know the future"
   ]
  },
  {
   "cell_type": "code",
   "execution_count": 75,
   "metadata": {},
   "outputs": [],
   "source": [
    "X_train.drop(['duration', 'radiant_win', 'tower_status_radiant',\n",
    "           'tower_status_dire', 'barracks_status_radiant','barracks_status_dire'], axis=1, inplace=True)"
   ]
  },
  {
   "cell_type": "markdown",
   "metadata": {},
   "source": [
    "### Simple Gradient Boosting classifier (Градиентный бустинг \"в лоб\")\n"
   ]
  },
  {
   "cell_type": "code",
   "execution_count": 76,
   "metadata": {},
   "outputs": [],
   "source": [
    "from sklearn.model_selection import KFold, cross_val_score\n",
    "from sklearn.ensemble import GradientBoostingClassifier\n",
    "from sklearn.impute import SimpleImputer"
   ]
  },
  {
   "cell_type": "markdown",
   "metadata": {},
   "source": [
    "Filling missed values with a huge number.\n",
    "<br>\n",
    "This allows send objects containing missed values to another branch thus classification can be better."
   ]
  },
  {
   "cell_type": "code",
   "execution_count": 77,
   "metadata": {},
   "outputs": [],
   "source": [
    "imp = SimpleImputer(missing_values=np.nan, fill_value=1e9, strategy='constant')\n",
    "X_train = imp.fit_transform(X_train)\n",
    "X_test = imp.transform(X_test)\n",
    "#X_train.fillna(value=1e9, inplace=True)"
   ]
  },
  {
   "cell_type": "markdown",
   "metadata": {},
   "source": [
    "Functon CrossValGBC let make cross validation on different count of trees(n_estimators).\n",
    "<br>\n",
    "It returns array of scores after cross_val_score and spent time."
   ]
  },
  {
   "cell_type": "code",
   "execution_count": 78,
   "metadata": {},
   "outputs": [],
   "source": [
    "def CrossValGBC(n):\n",
    "    start_time = datetime.datetime.now()\n",
    "    kf = KFold(n_splits=5, shuffle=True, random_state=42)\n",
    "    clf = GradientBoostingClassifier(n_estimators=n, random_state=42)\n",
    "    quality = cross_val_score(estimator=clf,X=X_train,y=y_train,cv=kf, scoring='roc_auc', n_jobs=-1)\n",
    "    end_time = datetime.datetime.now()\n",
    "    return quality, end_time-start_time\n"
   ]
  },
  {
   "cell_type": "markdown",
   "metadata": {},
   "source": [
    "Let's test n = {10, 20, 30, 100} and save all in a dictionary where key is $n_i$ and value is a tuple of array of scores and spent time."
   ]
  },
  {
   "cell_type": "code",
   "execution_count": 79,
   "metadata": {},
   "outputs": [],
   "source": [
    "n_trees = [10, 20, 30, 100]\n",
    "res = {}\n",
    "for n in n_trees:\n",
    "    res[n] = CrossValGBC(n)"
   ]
  },
  {
   "cell_type": "code",
   "execution_count": 88,
   "metadata": {},
   "outputs": [
    {
     "name": "stdout",
     "output_type": "stream",
     "text": [
      "Count of trees:  10, score on cross validation: 0.6660340265, spent time: 0 mins and 44.39 sec\n",
      "Count of trees:  20, score on cross validation: 0.6834568680, spent time: 1 mins and 14.81 sec\n",
      "Count of trees:  30, score on cross validation: 0.6899489423, spent time: 1 mins and 55.62 sec\n",
      "Count of trees: 100, score on cross validation: 0.7067004675, spent time: 5 mins and 37.21 sec\n"
     ]
    }
   ],
   "source": [
    "for key, val in res.items():\n",
    "    minutes, seconds = divmod(val[1].total_seconds(), 60)\n",
    "    print(\"Count of trees: {0:3}, score on cross validation: {1:.10f}, spent time:{2:2.0f} mins and {3:.2f} sec\"\n",
    "          .format(key, val[0].mean(), minutes, seconds))"
   ]
  },
  {
   "cell_type": "markdown",
   "metadata": {},
   "source": [
    "Let's fit our train sample and predict probabilities on test sample. "
   ]
  },
  {
   "cell_type": "code",
   "execution_count": 23,
   "metadata": {},
   "outputs": [],
   "source": [
    "gbclf = GradientBoostingClassifier(n_estimators=100, random_state=42)\n",
    "gbclf.fit(X_train, y_train)\n",
    "y_pred = gbclf.predict_proba(X_test)[:, 1]"
   ]
  },
  {
   "cell_type": "code",
   "execution_count": 53,
   "metadata": {},
   "outputs": [
    {
     "data": {
      "image/png": "[encoded data removed]",
      "text/plain": [
       "<Figure size 576x576 with 1 Axes>"
      ]
     },
     "metadata": {
      "needs_background": "light"
     },
     "output_type": "display_data"
    }
   ],
   "source": [
    "importances = gbclf.feature_importances_\n",
    "indices = np.argsort(importances)[::-1]\n",
    "feat_first = 30\n",
    "plt.figure(figsize=(8, 8))\n",
    "plt.title(\"Feature importances\")\n",
    "plt.bar(range(feat_first), importances[indices[:feat_first]], align='center')\n",
    "plt.xticks(range(feat_first), np.array(feature_names)[indices[:feat_first]], rotation=90)\n",
    "plt.xlim([-1, feat_first]);"
   ]
  },
  {
   "cell_type": "code",
   "execution_count": 99,
   "metadata": {},
   "outputs": [
    {
     "name": "stdout",
     "output_type": "stream",
     "text": [
      "Index(['d2_gold', 'd1_gold', 'r2_gold', 'r1_gold', 'd5_gold', 'd4_gold',\n",
      "       'r5_gold', 'r4_gold', 'd3_gold', 'r3_gold', 'first_blood_team',\n",
      "       'radiant_boots_count', 'dire_boots_count'],\n",
      "      dtype='object')\n"
     ]
    }
   ],
   "source": [
    "best_features = indices[:13]\n",
    "best_features_names = feature_names[best_features]\n",
    "print(best_features_names)"
   ]
  }
 ],
 "metadata": {
  "kernelspec": {
   "display_name": "Python 3",
   "language": "python",
   "name": "python3"
  },
  "language_info": {
   "codemirror_mode": {
    "name": "ipython",
    "version": 3
   },
   "file_extension": ".py",
   "mimetype": "text/x-python",
   "name": "python",
   "nbconvert_exporter": "python",
   "pygments_lexer": "ipython3",
   "version": "3.6.8"
  }
 },
 "nbformat": 4,
 "nbformat_minor": 2
}
