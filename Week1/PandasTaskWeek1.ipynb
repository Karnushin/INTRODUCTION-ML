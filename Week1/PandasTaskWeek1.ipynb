{
 "cells": [
  {
   "cell_type": "code",
   "execution_count": 1,
   "metadata": {},
   "outputs": [
    {
     "name": "stdout",
     "output_type": "stream",
     "text": [
      "\n",
      "Men and women count\n",
      "men = 577\n",
      "women = 314\n",
      "\n",
      "The same\n",
      "male      577\n",
      "female    314\n",
      "Name: Sex, dtype: int64\n",
      "\n",
      "Part of survived people\n",
      "part = 38.38\n",
      "\n",
      "Passengers of 1st class\n",
      "1st class = 24.24\n",
      "\n",
      "Mean and median of people's age\n",
      "mean = 29.7\n",
      "median = 28.0\n",
      "\n",
      "Сorrelation of Pearson between SibSp and Parch\n",
      "cor = 0.41\n",
      "\n",
      "Most popular female name\n",
      "Anna\n"
     ]
    }
   ],
   "source": [
    "import pandas as pd\n",
    "import re\n",
    "\n",
    "data = pd.read_csv('titanic.csv', index_col='PassengerId')\n",
    "\n",
    "print('\\nMen and women count')\n",
    "print('men =',data.loc[data.Sex == 'male', 'Sex'].count())\n",
    "print('women =', (data['Sex'] == 'female').sum())\n",
    "print(\"\\nThe same\")\n",
    "print(data.Sex.value_counts());\n",
    "\n",
    "print('\\nPart of survived people')\n",
    "print('part =', round(data.Survived.sum() / data.shape[0] * 100, 2))\n",
    "\n",
    "print('\\nPassengers of 1st class')\n",
    "print('1st class =', round((data.Pclass == 1).sum() / data.shape[0] * 100,2))\n",
    "\n",
    "print(\"\\nMean and median of people's age\")\n",
    "print('mean =',round(data.Age.mean(), 2))\n",
    "print('median =',data.Age.median())\n",
    "\n",
    "print('\\nСorrelation of Pearson between SibSp and Parch')\n",
    "print('cor =', round(data['SibSp'].corr(data['Parch']), 2))\n",
    "\n",
    "print('\\nMost popular female name')\n",
    "fn = data[data['Sex'] == 'female']['Name']\n",
    "def extract_first_name(name):\n",
    "    # первое слово в скобках\n",
    "    m = re.search('\\(([^\\s]+).+\\)', name)\n",
    "    if m:\n",
    "        return m.group(1)\n",
    "    # первое слово после Mrs. or Miss. or else\n",
    "    else:\n",
    "        m = re.search(\".*\\.\\s*([\\w]*)\", name)\n",
    "        return m.group(1)\n",
    "\n",
    "# получаем имя с максимальной частотой\n",
    "print(fn.map(lambda full_name: extract_first_name(full_name)).value_counts().idxmax())\n"
   ]
  },
  {
   "cell_type": "code",
   "execution_count": null,
   "metadata": {},
   "outputs": [],
   "source": []
  }
 ],
 "metadata": {
  "kernelspec": {
   "display_name": "Python 3",
   "language": "python",
   "name": "python3"
  },
  "language_info": {
   "codemirror_mode": {
    "name": "ipython",
    "version": 3
   },
   "file_extension": ".py",
   "mimetype": "text/x-python",
   "name": "python",
   "nbconvert_exporter": "python",
   "pygments_lexer": "ipython3",
   "version": "3.6.8"
  }
 },
 "nbformat": 4,
 "nbformat_minor": 2
}
