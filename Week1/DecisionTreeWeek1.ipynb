{
 "cells": [
  {
   "cell_type": "code",
   "execution_count": 1,
   "metadata": {},
   "outputs": [
    {
     "name": "stdout",
     "output_type": "stream",
     "text": [
      "<class 'pandas.core.frame.DataFrame'>\n",
      "{'Pclass': 0.14000521853124187, 'Sex': 0.3005122109582394, 'Age': 0.2560461009790662, 'Fare': 0.3034364695314525}\n"
     ]
    }
   ],
   "source": [
    "import pandas as pd\n",
    "import numpy as np\n",
    "from sklearn.tree import DecisionTreeClassifier\n",
    "\n",
    "dfAll = pd.read_csv('titanic.csv', index_col='PassengerId')\n",
    "print(type(dfAll))\n",
    "\n",
    "#оставляем в выборке 4 интересующих нас признака + 1 - целевой\n",
    "features = dfAll[['Survived', 'Pclass', 'Sex', 'Age', 'Fare']]\n",
    "\n",
    "#выбрасывает те строки, в которых в колонке Age содержится Nan\n",
    "features = features.dropna(subset=['Age'])\n",
    "#features.reset_index(drop=True, inplace=True)\n",
    "\n",
    "#выделяем целевую переменную\n",
    "y = features['Survived']\n",
    "#удаляем колонку, которая не относится к признакам\n",
    "features.drop(columns=['Survived'], inplace=True)\n",
    "\n",
    "#заменяем пол на числовые знаения, чтобы суметь обучить модель, так как со строками нельзя !!\n",
    "features.loc[features.Sex == 'male', 'Sex'] = 1\n",
    "features.loc[features.Sex == 'female', 'Sex'] = 0\n",
    "#features.Sex = pd.factorize(features.Sex)[0] лучше заменять так\n",
    "\n",
    "#переходим к самому обучению\n",
    "#random_state=241 - дано в условии\n",
    "clf = DecisionTreeClassifier(random_state=241)\n",
    "clf.fit(features, y)\n",
    "\n",
    "#получим показатель важности признаков от 0 до 1\n",
    "importance = clf.feature_importances_\n",
    "\n",
    "print(dict(zip(features.columns, importance)))"
   ]
  },
  {
   "cell_type": "code",
   "execution_count": 2,
   "metadata": {},
   "outputs": [
    {
     "name": "stdout",
     "output_type": "stream",
     "text": [
      "<class 'pandas.core.frame.DataFrame'>\n",
      "{'Pclass': 0.13800176720753296, 'Age': 0.2558107615888802, 'Fare': 0.30567526024534736, 'Sex_female': 0.0, 'Sex_male': 0.3005122109582394}\n"
     ]
    }
   ],
   "source": [
    "import pandas as pd\n",
    "import numpy as np\n",
    "from sklearn.tree import DecisionTreeClassifier\n",
    "\n",
    "dfAll = pd.read_csv('titanic.csv', index_col='PassengerId')\n",
    "print(type(dfAll))\n",
    "\n",
    "#оставляем в выборке 4 интересующих нас признака + 1 - целевой\n",
    "features = dfAll[['Survived', 'Pclass', 'Sex', 'Age', 'Fare']]\n",
    "\n",
    "#выбрасывает те строки, в которых в колонке Age содержится Nan\n",
    "features = features.dropna(subset=['Age'])\n",
    "#features.reset_index(drop=True, inplace=True)\n",
    "\n",
    "#выделяем целевую переменную\n",
    "y = features['Survived']\n",
    "#удаляем колонку, которая не относится к признакам\n",
    "features.drop(columns=['Survived'], inplace=True)\n",
    "\n",
    "\n",
    "features = pd.get_dummies(features)\n",
    "\n",
    "#переходим к самому обучению\n",
    "#random_state=241 - дано в условии\n",
    "clf = DecisionTreeClassifier(random_state=241)\n",
    "clf.fit(features, y)\n",
    "\n",
    "#получим показатель важности признаков от 0 до 1\n",
    "importance = clf.feature_importances_\n",
    "\n",
    "print(dict(zip(features.columns, importance)))"
   ]
  },
  {
   "cell_type": "code",
   "execution_count": null,
   "metadata": {},
   "outputs": [],
   "source": []
  }
 ],
 "metadata": {
  "kernelspec": {
   "display_name": "Python 3",
   "language": "python",
   "name": "python3"
  },
  "language_info": {
   "codemirror_mode": {
    "name": "ipython",
    "version": 3
   },
   "file_extension": ".py",
   "mimetype": "text/x-python",
   "name": "python",
   "nbconvert_exporter": "python",
   "pygments_lexer": "ipython3",
   "version": "3.6.8"
  }
 },
 "nbformat": 4,
 "nbformat_minor": 2
}
