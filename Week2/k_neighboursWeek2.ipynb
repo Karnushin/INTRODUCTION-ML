{
 "cells": [
  {
   "cell_type": "code",
   "execution_count": 5,
   "metadata": {},
   "outputs": [],
   "source": [
    "import pandas as pd\n",
    "from sklearn.model_selection import KFold, cross_val_score\n",
    "from sklearn.neighbors import KNeighborsClassifier\n",
    "from sklearn.preprocessing import scale\n",
    "\n",
    "import warnings\n",
    "warnings.filterwarnings('ignore')\n",
    "\n",
    "def choose_k_neighbours(y, features):\n",
    "    #проведение кросс-валидации\n",
    "    qual = {}\n",
    "    kf = KFold(n_splits = 5, shuffle = True, random_state=42) #при 241 ответ не засчитывался\n",
    "    #для подбора наилучшего числа соседей\n",
    "    for i in range(1, 51):\n",
    "        clf = KNeighborsClassifier(n_neighbors = i)\n",
    "        #массив из 5 элементов(блоков)\n",
    "        quality = cross_val_score(estimator=clf, X = features, y = y, cv=kf, scoring='accuracy')\n",
    "        #усреднение массива из 5 блоков\n",
    "        qual[i] = quality.mean()\n",
    "    \n",
    "    #нахождение точности классификации на кросс-валидации\n",
    "    #и оптимального k при котором это случилось (2 способа)\n",
    "     #m = max(qual, key = lambda x: qual.get(x))\n",
    "     #print(qual[m], m)\n",
    "    print(max(zip(qual.values(), qual.keys())))\n",
    "\n"
   ]
  },
  {
   "cell_type": "code",
   "execution_count": 6,
   "metadata": {},
   "outputs": [
    {
     "name": "stdout",
     "output_type": "stream",
     "text": [
      "(0.7304761904761905, 1)\n"
     ]
    }
   ],
   "source": [
    "data = pd.read_csv('wine.csv', header = None);\n",
    "\n",
    "#извлечение классов и признаков\n",
    "classes = data.iloc[:,0]\n",
    "features = data.iloc[:,1:]\n",
    "choose_k_neighbours(classes, features);"
   ]
  },
  {
   "cell_type": "code",
   "execution_count": 7,
   "metadata": {},
   "outputs": [
    {
     "name": "stdout",
     "output_type": "stream",
     "text": [
      "(0.9776190476190475, 29)\n"
     ]
    }
   ],
   "source": [
    "#масштабирование признаков и повтор\n",
    "features = scale(features, axis = 0)\n",
    "choose_k_neighbours(classes, features)"
   ]
  },
  {
   "cell_type": "code",
   "execution_count": null,
   "metadata": {},
   "outputs": [],
   "source": []
  }
 ],
 "metadata": {
  "kernelspec": {
   "display_name": "Python 3",
   "language": "python",
   "name": "python3"
  },
  "language_info": {
   "codemirror_mode": {
    "name": "ipython",
    "version": 3
   },
   "file_extension": ".py",
   "mimetype": "text/x-python",
   "name": "python",
   "nbconvert_exporter": "python",
   "pygments_lexer": "ipython3",
   "version": "3.6.8"
  }
 },
 "nbformat": 4,
 "nbformat_minor": 2
}
