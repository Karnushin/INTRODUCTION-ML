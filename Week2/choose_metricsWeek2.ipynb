{
 "cells": [
  {
   "cell_type": "code",
   "execution_count": 1,
   "metadata": {},
   "outputs": [
    {
     "name": "stdout",
     "output_type": "stream",
     "text": [
      "(-17.165374145525995, 1.271356783919598)\n"
     ]
    }
   ],
   "source": [
    "from sklearn.datasets import load_boston\n",
    "from sklearn.neighbors import KNeighborsRegressor\n",
    "from sklearn.preprocessing import scale\n",
    "from sklearn.model_selection import KFold, cross_val_score\n",
    "import numpy as np\n",
    "\n",
    "#загрузка данных и выделение целевой переменной и признаков\n",
    "boston = load_boston()\n",
    "data = boston.data\n",
    "data = scale(data)\n",
    "y = boston.target\n",
    "\n",
    "#для кросс-валидация по 5 блокам (делаем разбиение выборки)\n",
    "kf = KFold(n_splits = 5, shuffle = True, random_state=241)\n",
    "\n",
    "res = {}\n",
    "\n",
    "#подбор наилучшего параметра \"p\" в метрике Минковского\n",
    "for i in np.linspace(1, 10, num=200):\n",
    "    reg = KNeighborsRegressor(n_neighbors=5, weights='distance', p=i, metric='minkowski')\n",
    "    quality = cross_val_score(estimator=reg, X = data, y = y, cv=kf, scoring='neg_mean_squared_error')\n",
    "    res[i] = quality.mean()\n",
    "\n",
    "print(max(zip(res.values(), res.keys())))\n",
    "\n"
   ]
  }
 ],
 "metadata": {
  "kernelspec": {
   "display_name": "Python 3",
   "language": "python",
   "name": "python3"
  },
  "language_info": {
   "codemirror_mode": {
    "name": "ipython",
    "version": 3
   },
   "file_extension": ".py",
   "mimetype": "text/x-python",
   "name": "python",
   "nbconvert_exporter": "python",
   "pygments_lexer": "ipython3",
   "version": "3.6.8"
  }
 },
 "nbformat": 4,
 "nbformat_minor": 2
}
