{
 "cells": [
  {
   "cell_type": "code",
   "execution_count": 2,
   "metadata": {},
   "outputs": [
    {
     "name": "stdout",
     "output_type": "stream",
     "text": [
      "0.19\n"
     ]
    }
   ],
   "source": [
    "import numpy as np\n",
    "import pandas as pd\n",
    "from sklearn.linear_model import Perceptron\n",
    "from sklearn.preprocessing import StandardScaler\n",
    "from sklearn.metrics import accuracy_score\n",
    "from sklearn.preprocessing import scale\n",
    "import warnings\n",
    "warnings.filterwarnings('ignore')\n",
    "\n",
    "\n",
    "#обчучение персептрона и подсчет метрики качества в качестве доли верных ответов(accuracy_score)\n",
    "def AccuracyScore(X_train, Y_train, X_test, Y_test):\n",
    "    clf = Perceptron(max_iter=5, tol=None, random_state=241)\n",
    "    clf.fit(X_train, Y_train)\n",
    "    Y_predict = clf.predict(X_test)\n",
    "    return accuracy_score(Y_test, Y_predict)\n",
    "\n",
    "#выделение целевой переменной и признаков в обучающей выборке\n",
    "train = pd.read_csv('perceptron-train.csv', header = None);\n",
    "X_train = train.iloc[:,1:]\n",
    "Y_train = train.iloc[:,0]\n",
    "\n",
    "#выделение целевой переменной и признаков в тестовой выборке\n",
    "test = pd.read_csv('perceptron-test.csv', header = None);\n",
    "X_test = test.iloc[:,1:]\n",
    "Y_test = test.iloc[:,0]\n",
    "\n",
    "#значение метрики качества до нормализации признаков\n",
    "acc_score = AccuracyScore(X_train, Y_train, X_test, Y_test)\n",
    "\n",
    "#нормализация признаков\n",
    "scaler = StandardScaler()\n",
    "X_train_scaled = scaler.fit_transform(X_train)\n",
    "X_test_scaled = scaler.transform(X_test)\n",
    "\n",
    "#значение метрики качества после нормализации признаков\n",
    "acc_score_scaled = AccuracyScore(X_train_scaled, Y_train, X_test_scaled, Y_test)\n",
    "print(round(acc_score_scaled - acc_score, 3))\n"
   ]
  },
  {
   "cell_type": "code",
   "execution_count": null,
   "metadata": {},
   "outputs": [],
   "source": []
  }
 ],
 "metadata": {
  "kernelspec": {
   "display_name": "Python 3",
   "language": "python",
   "name": "python3"
  },
  "language_info": {
   "codemirror_mode": {
    "name": "ipython",
    "version": 3
   },
   "file_extension": ".py",
   "mimetype": "text/x-python",
   "name": "python",
   "nbconvert_exporter": "python",
   "pygments_lexer": "ipython3",
   "version": "3.6.8"
  }
 },
 "nbformat": 4,
 "nbformat_minor": 2
}
