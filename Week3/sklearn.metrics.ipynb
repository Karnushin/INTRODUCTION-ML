{
 "cells": [
  {
   "cell_type": "code",
   "execution_count": 1,
   "metadata": {},
   "outputs": [],
   "source": [
    "import pandas as pd\n",
    "data = pd.read_csv('classification.csv')"
   ]
  },
  {
   "cell_type": "code",
   "execution_count": 2,
   "metadata": {},
   "outputs": [
    {
     "name": "stdout",
     "output_type": "stream",
     "text": [
      "43 34 59 64\n"
     ]
    }
   ],
   "source": [
    "#значения в таблице ошибок классификации\n",
    "'''\n",
    "TP, FP, FN, TN = 0, 0, 0, 0\n",
    "for i in range(len(data.true)):\n",
    "    dti = data.true.iloc[i]\n",
    "    dpi = data.pred.iloc[i]\n",
    "    if (dti == dpi and dti == 1):\n",
    "        TP += 1\n",
    "    if (dti == dpi and dti == 0):\n",
    "        TN += 1\n",
    "    if (dti < dpi):\n",
    "        FP += 1\n",
    "    if (dti > dpi):\n",
    "        FN += 1\n",
    "'''\n",
    "from sklearn.metrics import confusion_matrix\n",
    "from numpy import ravel\n",
    "TN, FP, FN, TP = confusion_matrix(data.true, data.pred).ravel()\n",
    "print(TP, FP, FN, TN)\n",
    "#43 34 59 64 ok"
   ]
  },
  {
   "cell_type": "code",
   "execution_count": 3,
   "metadata": {},
   "outputs": [
    {
     "name": "stdout",
     "output_type": "stream",
     "text": [
      "0.54 0.56\n",
      "0.42 0.48\n"
     ]
    }
   ],
   "source": [
    "#значения основных метрик качества классификатора\n",
    "from sklearn.metrics import accuracy_score, precision_score, recall_score, f1_score\n",
    "\n",
    "print(round(accuracy_score(data.true, data.pred), 2), round(precision_score(data.true, data.pred), 2))\n",
    "print(round(recall_score(data.true, data.pred), 2), round(f1_score(data.true, data.pred), 2))"
   ]
  },
  {
   "cell_type": "code",
   "execution_count": 4,
   "metadata": {},
   "outputs": [
    {
     "name": "stdout",
     "output_type": "stream",
     "text": [
      "0.72 0.71\n",
      "0.64 0.69\n"
     ]
    }
   ],
   "source": [
    "#значения площади под ROC-кривой для каждого классификатора\n",
    "import pandas as pd\n",
    "from sklearn.metrics import roc_auc_score\n",
    "data2 = pd.read_csv('scores.csv')\n",
    "\n",
    "print(round(roc_auc_score(data2.true, data2.score_logreg), 2), round(roc_auc_score(data2.true, data2.score_svm), 2))\n",
    "print(round(roc_auc_score(data2.true, data2.score_knn), 2), round(roc_auc_score(data2.true, data2.score_tree), 2))"
   ]
  },
  {
   "cell_type": "code",
   "execution_count": 5,
   "metadata": {},
   "outputs": [],
   "source": [
    "from sklearn.metrics import precision_recall_curve\n",
    "def GetPrecisionOnRecall70(metric, data2):\n",
    "    precision, recall, thresholds = precision_recall_curve(data2.true, data2[metric])\n",
    "    return max([(k, v) for k, v in dict(zip(recall, precision)).items() if k >= 0.7], key=lambda x: x[1])[1]"
   ]
  },
  {
   "cell_type": "code",
   "execution_count": 6,
   "metadata": {},
   "outputs": [
    {
     "name": "stdout",
     "output_type": "stream",
     "text": [
      "0.6302521008403361\n",
      "0.6228070175438597\n",
      "0.6065573770491803\n",
      "0.6517857142857143\n"
     ]
    }
   ],
   "source": [
    "#нахождение классификатора, достигающего наибольшей точности (Precision) при полноте (Recall) не менее 70%\n",
    "#по функции выше, где учтены эти условия\n",
    "print(GetPrecisionOnRecall70('score_logreg', data2))\n",
    "print(GetPrecisionOnRecall70('score_svm', data2))\n",
    "print(GetPrecisionOnRecall70('score_knn', data2))\n",
    "print(GetPrecisionOnRecall70('score_tree', data2))"
   ]
  },
  {
   "cell_type": "code",
   "execution_count": null,
   "metadata": {},
   "outputs": [],
   "source": []
  }
 ],
 "metadata": {
  "kernelspec": {
   "display_name": "Python 3",
   "language": "python",
   "name": "python3"
  },
  "language_info": {
   "codemirror_mode": {
    "name": "ipython",
    "version": 3
   },
   "file_extension": ".py",
   "mimetype": "text/x-python",
   "name": "python",
   "nbconvert_exporter": "python",
   "pygments_lexer": "ipython3",
   "version": "3.6.8"
  }
 },
 "nbformat": 4,
 "nbformat_minor": 2
}
