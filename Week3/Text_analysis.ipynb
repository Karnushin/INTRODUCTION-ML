{
 "cells": [
  {
   "cell_type": "code",
   "execution_count": 1,
   "metadata": {},
   "outputs": [],
   "source": [
    "import numpy as np\n",
    "from sklearn.datasets import fetch_20newsgroups\n",
    "from sklearn.feature_extraction.text import TfidfVectorizer\n",
    "from sklearn.svm import SVC\n",
    "from sklearn.model_selection import KFold, cross_val_score, GridSearchCV\n",
    "\n",
    "\n"
   ]
  },
  {
   "cell_type": "code",
   "execution_count": 2,
   "metadata": {},
   "outputs": [],
   "source": [
    "#загрузка данных из 2х категорий\n",
    "newsgroups = fetch_20newsgroups(subset='all',categories=['alt.atheism', 'sci.space'])"
   ]
  },
  {
   "cell_type": "code",
   "execution_count": 3,
   "metadata": {},
   "outputs": [
    {
     "data": {
      "text/plain": [
       "{'C': 1.0}"
      ]
     },
     "execution_count": 3,
     "metadata": {},
     "output_type": "execute_result"
    }
   ],
   "source": [
    "#построение числового представления слов\n",
    "#с помощью алгоритма TF-IDF\n",
    "vectorizer = TfidfVectorizer()\n",
    "#не забываем нормализовать обучающую выборку\n",
    "#в данном случае обуч выб = train+test (так как subset='all')\n",
    "X_scaled = vectorizer.fit_transform(newsgroups.data)\n",
    "y = newsgroups.target\n",
    "\n",
    "#кросс-валидация по 5 блокам\n",
    "kf = KFold(n_splits = 5, shuffle = True, random_state=241)\n",
    "#print(kf)\n",
    "#будет обучение классификатора с линейным ядром с параметром С\n",
    "#который пока неизвестен\n",
    "clf = SVC(kernel='linear', random_state=241)\n",
    "#ищем оптимальный минимальный С в отрезке [10^-5; 10^5]\n",
    "grid = {'C': np.power(10.0, np.arange(-5, 6))}\n",
    "gs = GridSearchCV(clf, grid, scoring='accuracy', cv=kf, n_jobs=-1)\n",
    "gs.fit(X_scaled, y)\n",
    "#получение того самого С\n",
    "gs.best_params_ \n",
    "#Можно посмотреть вручню на С и выбрать\n",
    "#for a in gs.grid_scores_:\n",
    " #   print(a.mean_validation_score) # — оценка качества по кросс-валидации\n",
    "  #  print(a.parameters) # — значения параметров\n"
   ]
  },
  {
   "cell_type": "code",
   "execution_count": 4,
   "metadata": {},
   "outputs": [
    {
     "data": {
      "text/plain": [
       "SVC(C=1, cache_size=200, class_weight=None, coef0=0.0,\n",
       "  decision_function_shape='ovr', degree=3, gamma='auto_deprecated',\n",
       "  kernel='linear', max_iter=-1, probability=False, random_state=241,\n",
       "  shrinking=True, tol=0.001, verbose=False)"
      ]
     },
     "execution_count": 4,
     "metadata": {},
     "output_type": "execute_result"
    }
   ],
   "source": [
    "#обучение классификатора с найденным С=1\n",
    "clf = SVC(C=1, kernel='linear', random_state=241)\n",
    "clf.fit(X_scaled, y)\n"
   ]
  },
  {
   "cell_type": "code",
   "execution_count": 124,
   "metadata": {},
   "outputs": [
    {
     "name": "stdout",
     "output_type": "stream",
     "text": [
      "[22936 15606  5776 21850 23673 17802  5093  5088 12871 24019]\n"
     ]
    }
   ],
   "source": [
    "#abs()т.к. того требует задача (веса могут быть отрицательны, так работает алгоритм)\n",
    "values = abs(clf.coef_.toarray()[0])\n",
    "#(класс, к которому отнесено слово;числовое представление слова) вес слова\n",
    "#print(clf.coef_)\n",
    "#получение индексов наиболее важных 10 слов\n",
    "top10 = np.argsort(values)[-10:] \n",
    "print(top10)\n",
    "#22936 15606  5776 21850 23673 17802  5093  5088 12871 24019"
   ]
  },
  {
   "cell_type": "code",
   "execution_count": 127,
   "metadata": {},
   "outputs": [
    {
     "name": "stdout",
     "output_type": "stream",
     "text": [
      "['atheism', 'atheists', 'bible', 'god', 'keith', 'moon', 'religion', 'sci', 'sky', 'space']\n"
     ]
    }
   ],
   "source": [
    "#получение признаков - слова в тексте\n",
    "feature_mapping = vectorizer.get_feature_names()\n",
    "#получение 10 слов, которым соответствует j-й признах из массива с индексами признаков\n",
    "l = [feature_mapping[j] for j in top10]\n",
    "print(sorted(l))\n",
    "#как понял - нашли наиболее значимые слова из текстов 2х категорий"
   ]
  }
 ],
 "metadata": {
  "kernelspec": {
   "display_name": "Python 3",
   "language": "python",
   "name": "python3"
  },
  "language_info": {
   "codemirror_mode": {
    "name": "ipython",
    "version": 3
   },
   "file_extension": ".py",
   "mimetype": "text/x-python",
   "name": "python",
   "nbconvert_exporter": "python",
   "pygments_lexer": "ipython3",
   "version": "3.6.8"
  }
 },
 "nbformat": 4,
 "nbformat_minor": 2
}
