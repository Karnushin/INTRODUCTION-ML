{
 "cells": [
  {
   "cell_type": "code",
   "execution_count": 1,
   "metadata": {},
   "outputs": [
    {
     "name": "stdout",
     "output_type": "stream",
     "text": [
      "[array([3, 4, 9], dtype=int32)]\n"
     ]
    }
   ],
   "source": [
    "import pandas as pd\n",
    "from sklearn.svm import SVC\n",
    "\n",
    "#загрузка данных и выделение целевой переменной и признаков\n",
    "data = pd.read_csv('svm-data.csv', header = None)\n",
    "Y = data.iloc[:,0]\n",
    "X = data.iloc[:,1:]\n",
    "\n",
    "#обучение классификатора с линейным ядром\n",
    "clf = SVC(C=100000, kernel='linear', random_state=241)\n",
    "z = clf.fit(X, Y)\n",
    "#выделение опорных векторов (с индексацией с нуля)\n",
    "l = [z.support_]\n",
    "print(l)\n"
   ]
  },
  {
   "cell_type": "code",
   "execution_count": null,
   "metadata": {},
   "outputs": [],
   "source": []
  }
 ],
 "metadata": {
  "kernelspec": {
   "display_name": "Python 3",
   "language": "python",
   "name": "python3"
  },
  "language_info": {
   "codemirror_mode": {
    "name": "ipython",
    "version": 3
   },
   "file_extension": ".py",
   "mimetype": "text/x-python",
   "name": "python",
   "nbconvert_exporter": "python",
   "pygments_lexer": "ipython3",
   "version": "3.6.8"
  }
 },
 "nbformat": 4,
 "nbformat_minor": 2
}
