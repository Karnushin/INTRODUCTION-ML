{
 "cells": [
  {
   "cell_type": "code",
   "execution_count": 14,
   "metadata": {},
   "outputs": [],
   "source": [
    "import pandas as pd\n",
    "import numpy as np\n",
    "from sklearn.metrics import roc_auc_score\n",
    "\n",
    "import warnings\n",
    "warnings.filterwarnings('ignore')"
   ]
  },
  {
   "cell_type": "code",
   "execution_count": 6,
   "metadata": {},
   "outputs": [],
   "source": [
    "data = pd.read_csv('data-logistic.csv', header = None)\n",
    "y = data.iloc[:,0]\n",
    "X = data.iloc[:,1:]\n",
    "X1, X2 = X[1], X[2]"
   ]
  },
  {
   "cell_type": "code",
   "execution_count": 7,
   "metadata": {},
   "outputs": [],
   "source": [
    "#получение след шага градиентного спуска\n",
    "def NextStep(w, C = 0, k = 0.1):\n",
    "    w1, w2 = w[0], w[1]\n",
    "    l = len(y)\n",
    "    w1_next = w1+k/l*np.sum([Y[i]*X1[i]*(1-1/(1+np.exp(-Y[i]*(w1*X1[i]+w2*X2[i])))) for i in range(l)])-k*C*w1\n",
    "    w2_next = w2+k/l*np.sum([Y[i]*X2[i]*(1-1/(1+np.exp(-Y[i]*(w1*X1[i]+w2*X2[i])))) for i in range(l)])-k*C*w2\n",
    "    return [w1_next, w2_next]"
   ]
  },
  {
   "cell_type": "code",
   "execution_count": 8,
   "metadata": {},
   "outputs": [],
   "source": [
    "from scipy.spatial.distance import euclidean\n",
    "#подбор таких w1, w2, чтобы они отличались от значений прошлого шага менее чем на eps\n",
    "def GetW1W2(C = 0):\n",
    "    w = [0, 0]\n",
    "    eps = 1e-5\n",
    "    k = 0\n",
    "    while True:\n",
    "        w_next = NextStep(w, C)\n",
    "        if (euclidean(w_next, w) < eps):\n",
    "            break\n",
    "        w = w_next\n",
    "        k += 1\n",
    "    return w, k\n",
    "    "
   ]
  },
  {
   "cell_type": "code",
   "execution_count": 9,
   "metadata": {},
   "outputs": [
    {
     "name": "stdout",
     "output_type": "stream",
     "text": [
      "[0.28780442348832036, 0.09198995719421853] 243\n",
      "[0.028561965517012657, 0.024783655436404754] 7\n"
     ]
    }
   ],
   "source": [
    "#просто вызов функций, что выше без регуляризации и с С=10\n",
    "w_0, iter1 = GetW1W2()\n",
    "w_10, iter2 = GetW1W2(10)\n",
    "print(w_0, iter1)\n",
    "print(w_10, iter2)"
   ]
  },
  {
   "cell_type": "code",
   "execution_count": 10,
   "metadata": {},
   "outputs": [
    {
     "name": "stdout",
     "output_type": "stream",
     "text": [
      "0.927 0.936\n"
     ]
    }
   ],
   "source": [
    "#оценим по метрике AUC-ROC, тк тут речь о вероятности принадлежности к классу\n",
    "roc_score_0 = round(roc_auc_score(Y, [1/(1 + np.exp(- w_0[0]*X1[i] - w_0[1]*X2[i])) for i in range(len(X1))]), 3)\n",
    "roc_score_10 = round(roc_auc_score(Y, [1/(1 + np.exp(- w_10[0]*X1[i] - w_10[1]*X2[i])) for i in range(len(X1))]), 3)\n",
    "print(roc_score_0, roc_score_10)"
   ]
  },
  {
   "cell_type": "code",
   "execution_count": 11,
   "metadata": {},
   "outputs": [],
   "source": [
    "from sklearn.linear_model import LogisticRegression\n",
    "log_reg = LogisticRegression(C = 10, max_iter=1e9, random_state=42)"
   ]
  },
  {
   "cell_type": "code",
   "execution_count": 15,
   "metadata": {},
   "outputs": [],
   "source": [
    "z = log_reg.fit(X, Y)"
   ]
  },
  {
   "cell_type": "code",
   "execution_count": 13,
   "metadata": {},
   "outputs": [
    {
     "data": {
      "text/plain": [
       "0.93181"
      ]
     },
     "execution_count": 13,
     "metadata": {},
     "output_type": "execute_result"
    }
   ],
   "source": [
    "w1, w2 = z.coef_[0][0], z.coef_[0][1]\n",
    "round(roc_auc_score(Y, [1/(1 + np.exp(- w1*X1[i] - w2*X2[i])) for i in range(len(X1))]), 6)"
   ]
  },
  {
   "cell_type": "code",
   "execution_count": null,
   "metadata": {},
   "outputs": [],
   "source": []
  }
 ],
 "metadata": {
  "kernelspec": {
   "display_name": "Python 3",
   "language": "python",
   "name": "python3"
  },
  "language_info": {
   "codemirror_mode": {
    "name": "ipython",
    "version": 3
   },
   "file_extension": ".py",
   "mimetype": "text/x-python",
   "name": "python",
   "nbconvert_exporter": "python",
   "pygments_lexer": "ipython3",
   "version": "3.6.8"
  }
 },
 "nbformat": 4,
 "nbformat_minor": 2
}
