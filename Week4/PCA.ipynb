{
 "cells": [
  {
   "cell_type": "code",
   "execution_count": 1,
   "metadata": {},
   "outputs": [],
   "source": [
    "import pandas as pd\n",
    "import numpy as np\n",
    "from sklearn.decomposition import PCA"
   ]
  },
  {
   "cell_type": "code",
   "execution_count": 2,
   "metadata": {},
   "outputs": [],
   "source": [
    "price_stocks = pd.read_csv('close_prices.csv')\n",
    "djia_index = pd.read_csv('djia_index.csv')\n",
    "price_stocks = price_stocks.iloc[:,1:]"
   ]
  },
  {
   "cell_type": "code",
   "execution_count": 3,
   "metadata": {},
   "outputs": [
    {
     "data": {
      "text/plain": [
       "PCA(copy=True, iterated_power='auto', n_components=10, random_state=None,\n",
       "  svd_solver='auto', tol=0.0, whiten=False)"
      ]
     },
     "execution_count": 3,
     "metadata": {},
     "output_type": "execute_result"
    }
   ],
   "source": [
    "clf = PCA(n_components=10)\n",
    "clf.fit(price_stocks.values)\n"
   ]
  },
  {
   "cell_type": "code",
   "execution_count": 4,
   "metadata": {},
   "outputs": [
    {
     "name": "stdout",
     "output_type": "stream",
     "text": [
      "4 0.9277429537836402\n"
     ]
    }
   ],
   "source": [
    "val, count = 0, 0\n",
    "for x in clf.explained_variance_ratio_:\n",
    "    if val >= 0.9:\n",
    "        break;\n",
    "    count += 1\n",
    "    val += x\n",
    "print(count, val)\n",
    "    "
   ]
  },
  {
   "cell_type": "code",
   "execution_count": 5,
   "metadata": {},
   "outputs": [],
   "source": [
    "df_comp = pd.DataFrame(clf.transform(price_stocks))\n",
    "comp0 = df_comp[0]"
   ]
  },
  {
   "cell_type": "code",
   "execution_count": 6,
   "metadata": {},
   "outputs": [
    {
     "name": "stdout",
     "output_type": "stream",
     "text": [
      "374 374\n"
     ]
    }
   ],
   "source": [
    "dji = djia_index['^DJI']\n",
    "\n",
    "corr = np.corrcoef(comp0, dji)\n",
    "print(len(comp0),len(dji))"
   ]
  },
  {
   "cell_type": "code",
   "execution_count": 7,
   "metadata": {},
   "outputs": [
    {
     "name": "stdout",
     "output_type": "stream",
     "text": [
      "[[1.         0.90965222]\n",
      " [0.90965222 1.        ]]\n"
     ]
    }
   ],
   "source": [
    "df_comp = pd.DataFrame(clf.transform(price_stocks))\n",
    "comp0 = df_comp[0]\n",
    "df2 = pd.read_csv('djia_index.csv')\n",
    "dji = df2['^DJI']\n",
    "corr = np.corrcoef(comp0, dji)\n",
    "print(corr)"
   ]
  },
  {
   "cell_type": "code",
   "execution_count": 8,
   "metadata": {},
   "outputs": [
    {
     "data": {
      "text/plain": [
       "'V'"
      ]
     },
     "execution_count": 8,
     "metadata": {},
     "output_type": "execute_result"
    }
   ],
   "source": [
    "l = [x for x in range(len(clf.components_[0]))]\n",
    "max_comp_index = sorted(zip((clf.components_[0]), l), reverse=True)[0][1]\n",
    "price_stocks.columns[max_comp_index]"
   ]
  },
  {
   "cell_type": "code",
   "execution_count": null,
   "metadata": {},
   "outputs": [],
   "source": []
  }
 ],
 "metadata": {
  "kernelspec": {
   "display_name": "Python 3",
   "language": "python",
   "name": "python3"
  },
  "language_info": {
   "codemirror_mode": {
    "name": "ipython",
    "version": 3
   },
   "file_extension": ".py",
   "mimetype": "text/x-python",
   "name": "python",
   "nbconvert_exporter": "python",
   "pygments_lexer": "ipython3",
   "version": "3.6.8"
  }
 },
 "nbformat": 4,
 "nbformat_minor": 2
}
