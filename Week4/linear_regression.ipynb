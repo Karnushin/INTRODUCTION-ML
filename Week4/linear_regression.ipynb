{
 "cells": [
  {
   "cell_type": "code",
   "execution_count": 1,
   "metadata": {},
   "outputs": [],
   "source": [
    "import pandas as pd\n",
    "from sklearn.feature_extraction.text import TfidfVectorizer\n",
    "from sklearn.linear_model import Ridge\n",
    "from sklearn.feature_extraction import DictVectorizer\n",
    "\n",
    "train = pd.read_csv('salary-train.csv')\n",
    "test = pd.read_csv('salary-test-mini.csv')"
   ]
  },
  {
   "cell_type": "code",
   "execution_count": 2,
   "metadata": {},
   "outputs": [
    {
     "data": {
      "text/html": [
       "<div>\n",
       "<style scoped>\n",
       "    .dataframe tbody tr th:only-of-type {\n",
       "        vertical-align: middle;\n",
       "    }\n",
       "\n",
       "    .dataframe tbody tr th {\n",
       "        vertical-align: top;\n",
       "    }\n",
       "\n",
       "    .dataframe thead th {\n",
       "        text-align: right;\n",
       "    }\n",
       "</style>\n",
       "<table border=\"1\" class=\"dataframe\">\n",
       "  <thead>\n",
       "    <tr style=\"text-align: right;\">\n",
       "      <th></th>\n",
       "      <th>FullDescription</th>\n",
       "      <th>LocationNormalized</th>\n",
       "      <th>ContractTime</th>\n",
       "      <th>SalaryNormalized</th>\n",
       "    </tr>\n",
       "  </thead>\n",
       "  <tbody>\n",
       "    <tr>\n",
       "      <th>0</th>\n",
       "      <td>International Sales Manager London ****k  ****...</td>\n",
       "      <td>London</td>\n",
       "      <td>permanent</td>\n",
       "      <td>33000</td>\n",
       "    </tr>\n",
       "    <tr>\n",
       "      <th>1</th>\n",
       "      <td>An ideal opportunity for an individual that ha...</td>\n",
       "      <td>London</td>\n",
       "      <td>permanent</td>\n",
       "      <td>50000</td>\n",
       "    </tr>\n",
       "    <tr>\n",
       "      <th>2</th>\n",
       "      <td>Online Content and Brand Manager// Luxury Reta...</td>\n",
       "      <td>South East London</td>\n",
       "      <td>permanent</td>\n",
       "      <td>40000</td>\n",
       "    </tr>\n",
       "    <tr>\n",
       "      <th>3</th>\n",
       "      <td>A great local marketleader is seeking a perman...</td>\n",
       "      <td>Dereham</td>\n",
       "      <td>permanent</td>\n",
       "      <td>22500</td>\n",
       "    </tr>\n",
       "    <tr>\n",
       "      <th>4</th>\n",
       "      <td>Registered Nurse / RGN  Nursing Home for Young...</td>\n",
       "      <td>Sutton Coldfield</td>\n",
       "      <td>NaN</td>\n",
       "      <td>20355</td>\n",
       "    </tr>\n",
       "  </tbody>\n",
       "</table>\n",
       "</div>"
      ],
      "text/plain": [
       "                                     FullDescription LocationNormalized  \\\n",
       "0  International Sales Manager London ****k  ****...             London   \n",
       "1  An ideal opportunity for an individual that ha...             London   \n",
       "2  Online Content and Brand Manager// Luxury Reta...  South East London   \n",
       "3  A great local marketleader is seeking a perman...            Dereham   \n",
       "4  Registered Nurse / RGN  Nursing Home for Young...   Sutton Coldfield   \n",
       "\n",
       "  ContractTime  SalaryNormalized  \n",
       "0    permanent             33000  \n",
       "1    permanent             50000  \n",
       "2    permanent             40000  \n",
       "3    permanent             22500  \n",
       "4          NaN             20355  "
      ]
     },
     "execution_count": 2,
     "metadata": {},
     "output_type": "execute_result"
    }
   ],
   "source": [
    "train.head()"
   ]
  },
  {
   "cell_type": "code",
   "execution_count": 3,
   "metadata": {},
   "outputs": [
    {
     "data": {
      "text/plain": [
       "(60000, 4)"
      ]
     },
     "execution_count": 3,
     "metadata": {},
     "output_type": "execute_result"
    }
   ],
   "source": [
    "train.shape"
   ]
  },
  {
   "cell_type": "code",
   "execution_count": 4,
   "metadata": {},
   "outputs": [],
   "source": [
    "#приводим все строки в нижний регистри для дальнейшего\n",
    "#более корректного разделения текста на слова\n",
    "train.FullDescription = train.FullDescription.str.lower()\n",
    "train.LocationNormalized = train.LocationNormalized.str.lower()\n",
    "train.ContractTime = train.ContractTime.str.lower()\n",
    "#test.FullDescription = test.FullDescription.str.lower()\n",
    "#test.LocationNormalized = test.LocationNormalized.str.lower()\n",
    "#test.ContractTime = test.ContractTime.str.lower()"
   ]
  },
  {
   "cell_type": "code",
   "execution_count": 5,
   "metadata": {},
   "outputs": [],
   "source": [
    "#по аналогичным соображениям оставим в тексте только символьно-буквенные выражения\n",
    "train.FullDescription = train.FullDescription.replace('[^a-z0-9]', ' ', regex = True)\n",
    "train.LocationNormalized = train.LocationNormalized.replace('[^a-z0-9]', ' ', regex = True)\n",
    "train.ContractTime = train.ContractTime.replace('[^a-z0-9]', ' ', regex = True)\n",
    "\n",
    "#test.FullDescription = test.FullDescription.replace('[^a-z0-9]', ' ', regex = True)\n",
    "#test.LocationNormalized = test.LocationNormalized.replace('[^a-z0-9]', ' ', regex = True)\n",
    "#test.ContractTime = test.ContractTime.replace('[^a-z0-9]', ' ', regex = True)"
   ]
  },
  {
   "cell_type": "code",
   "execution_count": 6,
   "metadata": {},
   "outputs": [],
   "source": [
    "#преобразуем текста в векторы признаки\n",
    "#учитывая факт,что оставим те слова, встречащиеся хотя бы в 5 объектах\n",
    "vectorizer = TfidfVectorizer(min_df=5)\n",
    "train_scaled = vectorizer.fit_transform(train.FullDescription)\n",
    "test_scaled = vectorizer.transform(test.FullDescription)"
   ]
  },
  {
   "cell_type": "code",
   "execution_count": 7,
   "metadata": {},
   "outputs": [],
   "source": [
    "#заменим пропуски в столбцах на nan\n",
    "train.LocationNormalized.fillna('nan', inplace=True)\n",
    "train.ContractTime.fillna('nan', inplace=True)"
   ]
  },
  {
   "cell_type": "code",
   "execution_count": 8,
   "metadata": {},
   "outputs": [],
   "source": [
    "#воспользуемся one-hot кодирование соответствующих признаков\n",
    "#опять же, чтоб перевести слова в числа\n",
    "enc = DictVectorizer()\n",
    "train_categ = enc.fit_transform(train[['LocationNormalized', 'ContractTime']].to_dict('records'))\n",
    "test_categ = enc.transform(test[['LocationNormalized', 'ContractTime']].to_dict('records'))"
   ]
  },
  {
   "cell_type": "code",
   "execution_count": 9,
   "metadata": {},
   "outputs": [],
   "source": [
    "#объединим полученные переведенные текст и слова в числовые признаки\n",
    "from scipy.sparse import hstack\n",
    "edit_features_train = hstack([train_scaled, train_categ])"
   ]
  },
  {
   "cell_type": "code",
   "execution_count": 10,
   "metadata": {},
   "outputs": [
    {
     "data": {
      "text/plain": [
       "Ridge(alpha=1, copy_X=True, fit_intercept=True, max_iter=None,\n",
       "   normalize=False, random_state=241, solver='auto', tol=0.001)"
      ]
     },
     "execution_count": 10,
     "metadata": {},
     "output_type": "execute_result"
    }
   ],
   "source": [
    "#обучим гребневую регрессию\n",
    "clf = Ridge(alpha=1, random_state=241)\n",
    "clf.fit(edit_features_train, train.SalaryNormalized)"
   ]
  },
  {
   "cell_type": "code",
   "execution_count": 11,
   "metadata": {},
   "outputs": [
    {
     "name": "stdout",
     "output_type": "stream",
     "text": [
      "[55850.59, 37182.51]\n"
     ]
    }
   ],
   "source": [
    "#предскажем значения на тестовой выборке и выведем их\n",
    "edit_test = hstack([test_scaled, test_categ])\n",
    "z = clf.predict(edit_test)\n",
    "z_round =  [round(x,2) for x in z] \n",
    "print(z_round)\n",
    "#отработала за неск секунд\n",
    "#test WITHOUT str.lower and regex\n",
    "#[55850.59, 37182.51]\n",
    "#test WITH str.lower and regex\n",
    "#такой ответ принят не был\n",
    "#[56555.62, 37188.32]"
   ]
  },
  {
   "cell_type": "code",
   "execution_count": 47,
   "metadata": {},
   "outputs": [
    {
     "data": {
      "text/plain": [
       "'\\nfrom sklearn.linear_model import Lasso\\nclf = Lasso(alpha=1, random_state=241)\\n#clf.fit(edit_features_train, train.SalaryNormalized)\\nedit_test = hstack([test_scaled, test_categ])\\nz = clf.predict(edit_test)\\nz_round =  [round(x,2) for x in z] \\nprint(z_round)\\n#[55607.38, 36989.37]\\nэта часть кода работала минут 5\\n'"
      ]
     },
     "execution_count": 47,
     "metadata": {},
     "output_type": "execute_result"
    }
   ],
   "source": [
    "'''\n",
    "from sklearn.linear_model import Lasso\n",
    "clf = Lasso(alpha=1, random_state=241)\n",
    "#clf.fit(edit_features_train, train.SalaryNormalized)\n",
    "edit_test = hstack([test_scaled, test_categ])\n",
    "z = clf.predict(edit_test)\n",
    "z_round =  [round(x,2) for x in z] \n",
    "print(z_round)\n",
    "#[55607.38, 36989.37]\n",
    "эта часть кода работала минут 5\n",
    "'''"
   ]
  },
  {
   "cell_type": "code",
   "execution_count": null,
   "metadata": {},
   "outputs": [],
   "source": []
  }
 ],
 "metadata": {
  "kernelspec": {
   "display_name": "Python 3",
   "language": "python",
   "name": "python3"
  },
  "language_info": {
   "codemirror_mode": {
    "name": "ipython",
    "version": 3
   },
   "file_extension": ".py",
   "mimetype": "text/x-python",
   "name": "python",
   "nbconvert_exporter": "python",
   "pygments_lexer": "ipython3",
   "version": "3.6.8"
  }
 },
 "nbformat": 4,
 "nbformat_minor": 2
}
